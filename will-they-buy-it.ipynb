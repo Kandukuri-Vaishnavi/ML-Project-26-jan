{
 "cells": [
  {
   "cell_type": "code",
   "execution_count": 1,
   "id": "5f2f5d1c",
   "metadata": {
    "_cell_guid": "b1076dfc-b9ad-4769-8c92-a6c4dae69d19",
    "_uuid": "8f2839f25d086af736a60e9eeb907d3b93b6e0e5",
    "execution": {
     "iopub.execute_input": "2021-11-24T06:25:22.320312Z",
     "iopub.status.busy": "2021-11-24T06:25:22.318768Z",
     "iopub.status.idle": "2021-11-24T06:25:23.156620Z",
     "shell.execute_reply": "2021-11-24T06:25:23.157164Z",
     "shell.execute_reply.started": "2021-09-19T12:25:32.361614Z"
    },
    "papermill": {
     "duration": 0.863609,
     "end_time": "2021-11-24T06:25:23.157486",
     "exception": false,
     "start_time": "2021-11-24T06:25:22.293877",
     "status": "completed"
    },
    "tags": []
   },
   "outputs": [
    {
     "name": "stdout",
     "output_type": "stream",
     "text": [
      "/kaggle/input/online-shoppers-purchasing-intention-dataset/online_shoppers_intention.csv\n"
     ]
    }
   ],
   "source": [
    "# This Python 3 environment comes with many helpful analytics libraries installed\n",
    "# It is defined by the kaggle/python Docker image: https://github.com/kaggle/docker-python\n",
    "# For example, here's several helpful packages to load\n",
    "\n",
    "import numpy as np # linear algebra\n",
    "import pandas as pd # data processing, CSV file I/O (e.g. pd.read_csv)\n",
    "import matplotlib.pyplot as plt\n",
    "import seaborn as sns\n",
    "sns.set_style('darkgrid')\n",
    "# Input data files are available in the read-only \"../input/\" directory\n",
    "# For example, running this (by clicking run or pressing Shift+Enter) will list all files under the input directory\n",
    "\n",
    "import os\n",
    "for dirname, _, filenames in os.walk('/kaggle/input'):\n",
    "    for filename in filenames:\n",
    "        print(os.path.join(dirname, filename))\n",
    "\n",
    "# You can write up to 20GB to the current directory (/kaggle/working/) that gets preserved as output when you create a version using \"Save & Run All\" \n",
    "# You can also write temporary files to /kaggle/temp/, but they won't be saved outside of the current session"
   ]
  },
  {
   "cell_type": "markdown",
   "id": "9ad691a0",
   "metadata": {
    "papermill": {
     "duration": 0.019864,
     "end_time": "2021-11-24T06:25:23.199596",
     "exception": false,
     "start_time": "2021-11-24T06:25:23.179732",
     "status": "completed"
    },
    "tags": []
   },
   "source": [
    "# Loading and Exploring the dataset to check the following\n",
    "#### * Shape of dataset\n",
    "#### * Null columns\n",
    "#### * Balanced/Imbalanced dataset\n",
    "#### * Categorical/Numerical columns\n",
    "#### * Distribution of data"
   ]
  },
  {
   "cell_type": "code",
   "execution_count": 2,
   "id": "9a04f86f",
   "metadata": {
    "execution": {
     "iopub.execute_input": "2021-11-24T06:25:23.244395Z",
     "iopub.status.busy": "2021-11-24T06:25:23.243751Z",
     "iopub.status.idle": "2021-11-24T06:25:23.289351Z",
     "shell.execute_reply": "2021-11-24T06:25:23.288862Z",
     "shell.execute_reply.started": "2021-09-19T12:25:32.375304Z"
    },
    "papermill": {
     "duration": 0.069691,
     "end_time": "2021-11-24T06:25:23.289508",
     "exception": false,
     "start_time": "2021-11-24T06:25:23.219817",
     "status": "completed"
    },
    "tags": []
   },
   "outputs": [],
   "source": [
    "df=pd.read_csv('../input/online-shoppers-purchasing-intention-dataset/online_shoppers_intention.csv')"
   ]
  },
  {
   "cell_type": "code",
   "execution_count": 3,
   "id": "5353b322",
   "metadata": {
    "execution": {
     "iopub.execute_input": "2021-11-24T06:25:23.355000Z",
     "iopub.status.busy": "2021-11-24T06:25:23.352006Z",
     "iopub.status.idle": "2021-11-24T06:25:23.358676Z",
     "shell.execute_reply": "2021-11-24T06:25:23.357965Z",
     "shell.execute_reply.started": "2021-09-19T12:25:32.41137Z"
    },
    "papermill": {
     "duration": 0.047947,
     "end_time": "2021-11-24T06:25:23.358846",
     "exception": false,
     "start_time": "2021-11-24T06:25:23.310899",
     "status": "completed"
    },
    "tags": []
   },
   "outputs": [
    {
     "data": {
      "text/plain": [
       "(12330, 18)"
      ]
     },
     "execution_count": 3,
     "metadata": {},
     "output_type": "execute_result"
    }
   ],
   "source": [
    "df.shape"
   ]
  },
  {
   "cell_type": "code",
   "execution_count": 4,
   "id": "8071aacf",
   "metadata": {
    "execution": {
     "iopub.execute_input": "2021-11-24T06:25:23.428050Z",
     "iopub.status.busy": "2021-11-24T06:25:23.417375Z",
     "iopub.status.idle": "2021-11-24T06:25:23.442723Z",
     "shell.execute_reply": "2021-11-24T06:25:23.443298Z",
     "shell.execute_reply.started": "2021-09-19T12:25:32.420785Z"
    },
    "papermill": {
     "duration": 0.049719,
     "end_time": "2021-11-24T06:25:23.443469",
     "exception": false,
     "start_time": "2021-11-24T06:25:23.393750",
     "status": "completed"
    },
    "tags": []
   },
   "outputs": [
    {
     "name": "stdout",
     "output_type": "stream",
     "text": [
      "<class 'pandas.core.frame.DataFrame'>\n",
      "RangeIndex: 12330 entries, 0 to 12329\n",
      "Data columns (total 18 columns):\n",
      " #   Column                   Non-Null Count  Dtype  \n",
      "---  ------                   --------------  -----  \n",
      " 0   Administrative           12330 non-null  int64  \n",
      " 1   Administrative_Duration  12330 non-null  float64\n",
      " 2   Informational            12330 non-null  int64  \n",
      " 3   Informational_Duration   12330 non-null  float64\n",
      " 4   ProductRelated           12330 non-null  int64  \n",
      " 5   ProductRelated_Duration  12330 non-null  float64\n",
      " 6   BounceRates              12330 non-null  float64\n",
      " 7   ExitRates                12330 non-null  float64\n",
      " 8   PageValues               12330 non-null  float64\n",
      " 9   SpecialDay               12330 non-null  float64\n",
      " 10  Month                    12330 non-null  object \n",
      " 11  OperatingSystems         12330 non-null  int64  \n",
      " 12  Browser                  12330 non-null  int64  \n",
      " 13  Region                   12330 non-null  int64  \n",
      " 14  TrafficType              12330 non-null  int64  \n",
      " 15  VisitorType              12330 non-null  object \n",
      " 16  Weekend                  12330 non-null  bool   \n",
      " 17  Revenue                  12330 non-null  bool   \n",
      "dtypes: bool(2), float64(7), int64(7), object(2)\n",
      "memory usage: 1.5+ MB\n"
     ]
    }
   ],
   "source": [
    "df.info()"
   ]
  },
  {
   "cell_type": "code",
   "execution_count": 5,
   "id": "da1ede17",
   "metadata": {
    "execution": {
     "iopub.execute_input": "2021-11-24T06:25:23.508899Z",
     "iopub.status.busy": "2021-11-24T06:25:23.507413Z",
     "iopub.status.idle": "2021-11-24T06:25:23.518863Z",
     "shell.execute_reply": "2021-11-24T06:25:23.519234Z",
     "shell.execute_reply.started": "2021-09-19T12:25:32.445465Z"
    },
    "papermill": {
     "duration": 0.0536,
     "end_time": "2021-11-24T06:25:23.519385",
     "exception": false,
     "start_time": "2021-11-24T06:25:23.465785",
     "status": "completed"
    },
    "tags": []
   },
   "outputs": [
    {
     "name": "stdout",
     "output_type": "stream",
     "text": [
      "Month\n",
      "VisitorType\n",
      "Weekend\n",
      "Revenue\n"
     ]
    }
   ],
   "source": [
    "for cols in df.columns:\n",
    "    if(df[cols].dtype=='object' or df[cols].dtype=='bool'):\n",
    "        print(cols)"
   ]
  },
  {
   "cell_type": "code",
   "execution_count": 6,
   "id": "033f2fa6",
   "metadata": {
    "execution": {
     "iopub.execute_input": "2021-11-24T06:25:23.589839Z",
     "iopub.status.busy": "2021-11-24T06:25:23.583359Z",
     "iopub.status.idle": "2021-11-24T06:25:23.592991Z",
     "shell.execute_reply": "2021-11-24T06:25:23.592568Z",
     "shell.execute_reply.started": "2021-09-19T12:25:32.454168Z"
    },
    "papermill": {
     "duration": 0.043447,
     "end_time": "2021-11-24T06:25:23.593102",
     "exception": false,
     "start_time": "2021-11-24T06:25:23.549655",
     "status": "completed"
    },
    "tags": []
   },
   "outputs": [
    {
     "data": {
      "text/plain": [
       "May     3364\n",
       "Nov     2998\n",
       "Mar     1907\n",
       "Dec     1727\n",
       "Oct      549\n",
       "Sep      448\n",
       "Aug      433\n",
       "Jul      432\n",
       "June     288\n",
       "Feb      184\n",
       "Name: Month, dtype: int64"
      ]
     },
     "execution_count": 6,
     "metadata": {},
     "output_type": "execute_result"
    }
   ],
   "source": [
    "df['Month'].value_counts()"
   ]
  },
  {
   "cell_type": "markdown",
   "id": "c4120279",
   "metadata": {
    "papermill": {
     "duration": 0.02096,
     "end_time": "2021-11-24T06:25:23.635507",
     "exception": false,
     "start_time": "2021-11-24T06:25:23.614547",
     "status": "completed"
    },
    "tags": []
   },
   "source": [
    "# Converting *non*-Numerical columns to numeric form"
   ]
  },
  {
   "cell_type": "code",
   "execution_count": 7,
   "id": "2dbcaa4d",
   "metadata": {
    "execution": {
     "iopub.execute_input": "2021-11-24T06:25:23.719568Z",
     "iopub.status.busy": "2021-11-24T06:25:23.718748Z",
     "iopub.status.idle": "2021-11-24T06:25:23.738729Z",
     "shell.execute_reply": "2021-11-24T06:25:23.738248Z",
     "shell.execute_reply.started": "2021-09-19T12:25:32.470384Z"
    },
    "papermill": {
     "duration": 0.073359,
     "end_time": "2021-11-24T06:25:23.738851",
     "exception": false,
     "start_time": "2021-11-24T06:25:23.665492",
     "status": "completed"
    },
    "tags": []
   },
   "outputs": [],
   "source": [
    "df['Weekend']=df['Weekend'].replace({True:'Week1',False:'Week0'})\n",
    "df['Revenue']=df['Revenue'].replace({True:'Rev1',False:'Rev0'})\n",
    "df=pd.concat([df,pd.get_dummies(df['Month']),pd.get_dummies(df['VisitorType']),pd.get_dummies(df['Weekend']),pd.get_dummies(df['Revenue'])],axis=1)"
   ]
  },
  {
   "cell_type": "markdown",
   "id": "955b8193",
   "metadata": {
    "papermill": {
     "duration": 0.021275,
     "end_time": "2021-11-24T06:25:23.781509",
     "exception": false,
     "start_time": "2021-11-24T06:25:23.760234",
     "status": "completed"
    },
    "tags": []
   },
   "source": [
    "#### Dropping extra columns"
   ]
  },
  {
   "cell_type": "code",
   "execution_count": 8,
   "id": "a8994885",
   "metadata": {
    "execution": {
     "iopub.execute_input": "2021-11-24T06:25:23.831461Z",
     "iopub.status.busy": "2021-11-24T06:25:23.830529Z",
     "iopub.status.idle": "2021-11-24T06:25:23.835787Z",
     "shell.execute_reply": "2021-11-24T06:25:23.835336Z",
     "shell.execute_reply.started": "2021-09-19T12:25:32.498005Z"
    },
    "papermill": {
     "duration": 0.032702,
     "end_time": "2021-11-24T06:25:23.835914",
     "exception": false,
     "start_time": "2021-11-24T06:25:23.803212",
     "status": "completed"
    },
    "tags": []
   },
   "outputs": [],
   "source": [
    "df=df.drop(['Month','VisitorType','Weekend','Revenue','Rev0'],axis=1)"
   ]
  },
  {
   "cell_type": "code",
   "execution_count": 9,
   "id": "e739491a",
   "metadata": {
    "execution": {
     "iopub.execute_input": "2021-11-24T06:25:23.885158Z",
     "iopub.status.busy": "2021-11-24T06:25:23.884169Z",
     "iopub.status.idle": "2021-11-24T06:25:23.909206Z",
     "shell.execute_reply": "2021-11-24T06:25:23.908630Z",
     "shell.execute_reply.started": "2021-09-19T12:25:32.508341Z"
    },
    "papermill": {
     "duration": 0.051727,
     "end_time": "2021-11-24T06:25:23.909347",
     "exception": false,
     "start_time": "2021-11-24T06:25:23.857620",
     "status": "completed"
    },
    "tags": []
   },
   "outputs": [
    {
     "data": {
      "text/html": [
       "<div>\n",
       "<style scoped>\n",
       "    .dataframe tbody tr th:only-of-type {\n",
       "        vertical-align: middle;\n",
       "    }\n",
       "\n",
       "    .dataframe tbody tr th {\n",
       "        vertical-align: top;\n",
       "    }\n",
       "\n",
       "    .dataframe thead th {\n",
       "        text-align: right;\n",
       "    }\n",
       "</style>\n",
       "<table border=\"1\" class=\"dataframe\">\n",
       "  <thead>\n",
       "    <tr style=\"text-align: right;\">\n",
       "      <th></th>\n",
       "      <th>Administrative</th>\n",
       "      <th>Administrative_Duration</th>\n",
       "      <th>Informational</th>\n",
       "      <th>Informational_Duration</th>\n",
       "      <th>ProductRelated</th>\n",
       "      <th>ProductRelated_Duration</th>\n",
       "      <th>BounceRates</th>\n",
       "      <th>ExitRates</th>\n",
       "      <th>PageValues</th>\n",
       "      <th>SpecialDay</th>\n",
       "      <th>...</th>\n",
       "      <th>May</th>\n",
       "      <th>Nov</th>\n",
       "      <th>Oct</th>\n",
       "      <th>Sep</th>\n",
       "      <th>New_Visitor</th>\n",
       "      <th>Other</th>\n",
       "      <th>Returning_Visitor</th>\n",
       "      <th>Week0</th>\n",
       "      <th>Week1</th>\n",
       "      <th>Rev1</th>\n",
       "    </tr>\n",
       "  </thead>\n",
       "  <tbody>\n",
       "    <tr>\n",
       "      <th>0</th>\n",
       "      <td>0</td>\n",
       "      <td>0.0</td>\n",
       "      <td>0</td>\n",
       "      <td>0.0</td>\n",
       "      <td>1</td>\n",
       "      <td>0.000000</td>\n",
       "      <td>0.20</td>\n",
       "      <td>0.20</td>\n",
       "      <td>0.0</td>\n",
       "      <td>0.0</td>\n",
       "      <td>...</td>\n",
       "      <td>0</td>\n",
       "      <td>0</td>\n",
       "      <td>0</td>\n",
       "      <td>0</td>\n",
       "      <td>0</td>\n",
       "      <td>0</td>\n",
       "      <td>1</td>\n",
       "      <td>1</td>\n",
       "      <td>0</td>\n",
       "      <td>0</td>\n",
       "    </tr>\n",
       "    <tr>\n",
       "      <th>1</th>\n",
       "      <td>0</td>\n",
       "      <td>0.0</td>\n",
       "      <td>0</td>\n",
       "      <td>0.0</td>\n",
       "      <td>2</td>\n",
       "      <td>64.000000</td>\n",
       "      <td>0.00</td>\n",
       "      <td>0.10</td>\n",
       "      <td>0.0</td>\n",
       "      <td>0.0</td>\n",
       "      <td>...</td>\n",
       "      <td>0</td>\n",
       "      <td>0</td>\n",
       "      <td>0</td>\n",
       "      <td>0</td>\n",
       "      <td>0</td>\n",
       "      <td>0</td>\n",
       "      <td>1</td>\n",
       "      <td>1</td>\n",
       "      <td>0</td>\n",
       "      <td>0</td>\n",
       "    </tr>\n",
       "    <tr>\n",
       "      <th>2</th>\n",
       "      <td>0</td>\n",
       "      <td>0.0</td>\n",
       "      <td>0</td>\n",
       "      <td>0.0</td>\n",
       "      <td>1</td>\n",
       "      <td>0.000000</td>\n",
       "      <td>0.20</td>\n",
       "      <td>0.20</td>\n",
       "      <td>0.0</td>\n",
       "      <td>0.0</td>\n",
       "      <td>...</td>\n",
       "      <td>0</td>\n",
       "      <td>0</td>\n",
       "      <td>0</td>\n",
       "      <td>0</td>\n",
       "      <td>0</td>\n",
       "      <td>0</td>\n",
       "      <td>1</td>\n",
       "      <td>1</td>\n",
       "      <td>0</td>\n",
       "      <td>0</td>\n",
       "    </tr>\n",
       "    <tr>\n",
       "      <th>3</th>\n",
       "      <td>0</td>\n",
       "      <td>0.0</td>\n",
       "      <td>0</td>\n",
       "      <td>0.0</td>\n",
       "      <td>2</td>\n",
       "      <td>2.666667</td>\n",
       "      <td>0.05</td>\n",
       "      <td>0.14</td>\n",
       "      <td>0.0</td>\n",
       "      <td>0.0</td>\n",
       "      <td>...</td>\n",
       "      <td>0</td>\n",
       "      <td>0</td>\n",
       "      <td>0</td>\n",
       "      <td>0</td>\n",
       "      <td>0</td>\n",
       "      <td>0</td>\n",
       "      <td>1</td>\n",
       "      <td>1</td>\n",
       "      <td>0</td>\n",
       "      <td>0</td>\n",
       "    </tr>\n",
       "    <tr>\n",
       "      <th>4</th>\n",
       "      <td>0</td>\n",
       "      <td>0.0</td>\n",
       "      <td>0</td>\n",
       "      <td>0.0</td>\n",
       "      <td>10</td>\n",
       "      <td>627.500000</td>\n",
       "      <td>0.02</td>\n",
       "      <td>0.05</td>\n",
       "      <td>0.0</td>\n",
       "      <td>0.0</td>\n",
       "      <td>...</td>\n",
       "      <td>0</td>\n",
       "      <td>0</td>\n",
       "      <td>0</td>\n",
       "      <td>0</td>\n",
       "      <td>0</td>\n",
       "      <td>0</td>\n",
       "      <td>1</td>\n",
       "      <td>0</td>\n",
       "      <td>1</td>\n",
       "      <td>0</td>\n",
       "    </tr>\n",
       "  </tbody>\n",
       "</table>\n",
       "<p>5 rows × 30 columns</p>\n",
       "</div>"
      ],
      "text/plain": [
       "   Administrative  Administrative_Duration  Informational  \\\n",
       "0               0                      0.0              0   \n",
       "1               0                      0.0              0   \n",
       "2               0                      0.0              0   \n",
       "3               0                      0.0              0   \n",
       "4               0                      0.0              0   \n",
       "\n",
       "   Informational_Duration  ProductRelated  ProductRelated_Duration  \\\n",
       "0                     0.0               1                 0.000000   \n",
       "1                     0.0               2                64.000000   \n",
       "2                     0.0               1                 0.000000   \n",
       "3                     0.0               2                 2.666667   \n",
       "4                     0.0              10               627.500000   \n",
       "\n",
       "   BounceRates  ExitRates  PageValues  SpecialDay  ...  May  Nov  Oct  Sep  \\\n",
       "0         0.20       0.20         0.0         0.0  ...    0    0    0    0   \n",
       "1         0.00       0.10         0.0         0.0  ...    0    0    0    0   \n",
       "2         0.20       0.20         0.0         0.0  ...    0    0    0    0   \n",
       "3         0.05       0.14         0.0         0.0  ...    0    0    0    0   \n",
       "4         0.02       0.05         0.0         0.0  ...    0    0    0    0   \n",
       "\n",
       "   New_Visitor  Other  Returning_Visitor  Week0  Week1  Rev1  \n",
       "0            0      0                  1      1      0     0  \n",
       "1            0      0                  1      1      0     0  \n",
       "2            0      0                  1      1      0     0  \n",
       "3            0      0                  1      1      0     0  \n",
       "4            0      0                  1      0      1     0  \n",
       "\n",
       "[5 rows x 30 columns]"
      ]
     },
     "execution_count": 9,
     "metadata": {},
     "output_type": "execute_result"
    }
   ],
   "source": [
    "df.head()"
   ]
  },
  {
   "cell_type": "code",
   "execution_count": 10,
   "id": "44b8b746",
   "metadata": {
    "execution": {
     "iopub.execute_input": "2021-11-24T06:25:23.958982Z",
     "iopub.status.busy": "2021-11-24T06:25:23.958064Z",
     "iopub.status.idle": "2021-11-24T06:25:23.972043Z",
     "shell.execute_reply": "2021-11-24T06:25:23.972610Z",
     "shell.execute_reply.started": "2021-09-19T12:25:32.620789Z"
    },
    "papermill": {
     "duration": 0.040534,
     "end_time": "2021-11-24T06:25:23.972763",
     "exception": false,
     "start_time": "2021-11-24T06:25:23.932229",
     "status": "completed"
    },
    "tags": []
   },
   "outputs": [
    {
     "name": "stdout",
     "output_type": "stream",
     "text": [
      "<class 'pandas.core.frame.DataFrame'>\n",
      "RangeIndex: 12330 entries, 0 to 12329\n",
      "Data columns (total 30 columns):\n",
      " #   Column                   Non-Null Count  Dtype  \n",
      "---  ------                   --------------  -----  \n",
      " 0   Administrative           12330 non-null  int64  \n",
      " 1   Administrative_Duration  12330 non-null  float64\n",
      " 2   Informational            12330 non-null  int64  \n",
      " 3   Informational_Duration   12330 non-null  float64\n",
      " 4   ProductRelated           12330 non-null  int64  \n",
      " 5   ProductRelated_Duration  12330 non-null  float64\n",
      " 6   BounceRates              12330 non-null  float64\n",
      " 7   ExitRates                12330 non-null  float64\n",
      " 8   PageValues               12330 non-null  float64\n",
      " 9   SpecialDay               12330 non-null  float64\n",
      " 10  OperatingSystems         12330 non-null  int64  \n",
      " 11  Browser                  12330 non-null  int64  \n",
      " 12  Region                   12330 non-null  int64  \n",
      " 13  TrafficType              12330 non-null  int64  \n",
      " 14  Aug                      12330 non-null  uint8  \n",
      " 15  Dec                      12330 non-null  uint8  \n",
      " 16  Feb                      12330 non-null  uint8  \n",
      " 17  Jul                      12330 non-null  uint8  \n",
      " 18  June                     12330 non-null  uint8  \n",
      " 19  Mar                      12330 non-null  uint8  \n",
      " 20  May                      12330 non-null  uint8  \n",
      " 21  Nov                      12330 non-null  uint8  \n",
      " 22  Oct                      12330 non-null  uint8  \n",
      " 23  Sep                      12330 non-null  uint8  \n",
      " 24  New_Visitor              12330 non-null  uint8  \n",
      " 25  Other                    12330 non-null  uint8  \n",
      " 26  Returning_Visitor        12330 non-null  uint8  \n",
      " 27  Week0                    12330 non-null  uint8  \n",
      " 28  Week1                    12330 non-null  uint8  \n",
      " 29  Rev1                     12330 non-null  uint8  \n",
      "dtypes: float64(7), int64(7), uint8(16)\n",
      "memory usage: 1.5 MB\n"
     ]
    }
   ],
   "source": [
    "df.info()"
   ]
  },
  {
   "cell_type": "markdown",
   "id": "8486761f",
   "metadata": {
    "papermill": {
     "duration": 0.022493,
     "end_time": "2021-11-24T06:25:24.018342",
     "exception": false,
     "start_time": "2021-11-24T06:25:23.995849",
     "status": "completed"
    },
    "tags": []
   },
   "source": [
    "## Checking the distribution of data"
   ]
  },
  {
   "cell_type": "code",
   "execution_count": 11,
   "id": "9c18e355",
   "metadata": {
    "execution": {
     "iopub.execute_input": "2021-11-24T06:25:24.068435Z",
     "iopub.status.busy": "2021-11-24T06:25:24.067849Z",
     "iopub.status.idle": "2021-11-24T06:25:25.704858Z",
     "shell.execute_reply": "2021-11-24T06:25:25.705912Z",
     "shell.execute_reply.started": "2021-09-19T12:25:32.641079Z"
    },
    "papermill": {
     "duration": 1.66539,
     "end_time": "2021-11-24T06:25:25.706148",
     "exception": false,
     "start_time": "2021-11-24T06:25:24.040758",
     "status": "completed"
    },
    "tags": []
   },
   "outputs": [
    {
     "data": {
      "text/plain": [
       "<seaborn.axisgrid.FacetGrid at 0x7fd69084d7d0>"
      ]
     },
     "execution_count": 11,
     "metadata": {},
     "output_type": "execute_result"
    },
    {
     "data": {
      "image/png": "[encoded data removed]",
      "text/plain": [
       "<Figure size 402.375x360 with 1 Axes>"
      ]
     },
     "metadata": {},
     "output_type": "display_data"
    }
   ],
   "source": [
    "sns.catplot(x=\"Browser\", y=\"BounceRates\", hue=\"Rev1\", data=df)"
   ]
  },
  {
   "cell_type": "code",
   "execution_count": 12,
   "id": "67040df9",
   "metadata": {
    "execution": {
     "iopub.execute_input": "2021-11-24T06:25:25.802059Z",
     "iopub.status.busy": "2021-11-24T06:25:25.801298Z",
     "iopub.status.idle": "2021-11-24T06:25:26.237264Z",
     "shell.execute_reply": "2021-11-24T06:25:26.237648Z",
     "shell.execute_reply.started": "2021-09-19T12:25:34.348161Z"
    },
    "papermill": {
     "duration": 0.488433,
     "end_time": "2021-11-24T06:25:26.237808",
     "exception": false,
     "start_time": "2021-11-24T06:25:25.749375",
     "status": "completed"
    },
    "tags": []
   },
   "outputs": [
    {
     "data": {
      "text/plain": [
       "<seaborn.axisgrid.FacetGrid at 0x7fd6790d3890>"
      ]
     },
     "execution_count": 12,
     "metadata": {},
     "output_type": "execute_result"
    },
    {
     "data": {
      "image/png": "[encoded data removed]",
      "text/plain": [
       "<Figure size 360x360 with 1 Axes>"
      ]
     },
     "metadata": {},
     "output_type": "display_data"
    }
   ],
   "source": [
    "sns.catplot(x=\"Rev1\", y=\"ProductRelated_Duration\", data=df)"
   ]
  },
  {
   "cell_type": "markdown",
   "id": "ff826327",
   "metadata": {
    "papermill": {
     "duration": 0.024856,
     "end_time": "2021-11-24T06:25:26.287807",
     "exception": false,
     "start_time": "2021-11-24T06:25:26.262951",
     "status": "completed"
    },
    "tags": []
   },
   "source": [
    "# Selecting the most `important` feature"
   ]
  },
  {
   "cell_type": "code",
   "execution_count": 13,
   "id": "ecc8c492",
   "metadata": {
    "execution": {
     "iopub.execute_input": "2021-11-24T06:25:26.342050Z",
     "iopub.status.busy": "2021-11-24T06:25:26.341475Z",
     "iopub.status.idle": "2021-11-24T06:25:26.605239Z",
     "shell.execute_reply": "2021-11-24T06:25:26.604754Z",
     "shell.execute_reply.started": "2021-09-19T12:25:34.772211Z"
    },
    "papermill": {
     "duration": 0.292417,
     "end_time": "2021-11-24T06:25:26.605367",
     "exception": false,
     "start_time": "2021-11-24T06:25:26.312950",
     "status": "completed"
    },
    "tags": []
   },
   "outputs": [],
   "source": [
    "from sklearn.feature_selection import mutual_info_classif"
   ]
  },
  {
   "cell_type": "code",
   "execution_count": 14,
   "id": "8650c91c",
   "metadata": {
    "execution": {
     "iopub.execute_input": "2021-11-24T06:25:26.662618Z",
     "iopub.status.busy": "2021-11-24T06:25:26.661804Z",
     "iopub.status.idle": "2021-11-24T06:25:29.601819Z",
     "shell.execute_reply": "2021-11-24T06:25:29.601323Z",
     "shell.execute_reply.started": "2021-09-19T12:25:34.779128Z"
    },
    "papermill": {
     "duration": 2.971097,
     "end_time": "2021-11-24T06:25:29.601954",
     "exception": false,
     "start_time": "2021-11-24T06:25:26.630857",
     "status": "completed"
    },
    "tags": []
   },
   "outputs": [
    {
     "data": {
      "text/plain": [
       "PageValues                 16.494881\n",
       "ExitRates                   4.348175\n",
       "ProductRelated_Duration     3.252327\n",
       "BounceRates                 2.169238\n",
       "ProductRelated              2.142940\n",
       "Administrative_Duration     1.572968\n",
       "Administrative              1.306220\n",
       "TrafficType                 1.289679\n",
       "Nov                         1.130278\n",
       "Informational_Duration      1.081134\n",
       "SpecialDay                  0.850077\n",
       "Informational               0.650211\n",
       "Returning_Visitor           0.387086\n",
       "Feb                         0.356778\n",
       "New_Visitor                 0.322855\n",
       "Aug                         0.216652\n",
       "Sep                         0.209706\n",
       "Browser                     0.187904\n",
       "Dec                         0.156718\n",
       "Oct                         0.145481\n",
       "June                        0.040999\n",
       "Jul                         0.000000\n",
       "Mar                         0.000000\n",
       "May                         0.000000\n",
       "Region                      0.000000\n",
       "Other                       0.000000\n",
       "OperatingSystems            0.000000\n",
       "Week0                       0.000000\n",
       "Week1                       0.000000\n",
       "dtype: float64"
      ]
     },
     "execution_count": 14,
     "metadata": {},
     "output_type": "execute_result"
    }
   ],
   "source": [
    "mi_score=mutual_info_classif(df.drop('Rev1',axis=1),df['Rev1'])\n",
    "mi_score=pd.Series(mi_score*100,index=df.drop('Rev1',axis=1).columns)\n",
    "mi_score=mi_score.sort_values(ascending=False)\n",
    "mi_score"
   ]
  },
  {
   "cell_type": "code",
   "execution_count": 15,
   "id": "cd051f7d",
   "metadata": {
    "execution": {
     "iopub.execute_input": "2021-11-24T06:25:29.658772Z",
     "iopub.status.busy": "2021-11-24T06:25:29.658063Z",
     "iopub.status.idle": "2021-11-24T06:25:29.660565Z",
     "shell.execute_reply": "2021-11-24T06:25:29.660137Z",
     "shell.execute_reply.started": "2021-09-19T12:25:37.978079Z"
    },
    "papermill": {
     "duration": 0.031367,
     "end_time": "2021-11-24T06:25:29.660672",
     "exception": false,
     "start_time": "2021-11-24T06:25:29.629305",
     "status": "completed"
    },
    "tags": []
   },
   "outputs": [],
   "source": [
    "top_fea=mi_score.index[:9]"
   ]
  },
  {
   "cell_type": "markdown",
   "id": "3fbdb5b3",
   "metadata": {
    "papermill": {
     "duration": 0.025299,
     "end_time": "2021-11-24T06:25:29.710817",
     "exception": false,
     "start_time": "2021-11-24T06:25:29.685518",
     "status": "completed"
    },
    "tags": []
   },
   "source": [
    "# Splitting the dataset into:\n",
    "* Test\n",
    "* Train\n",
    "* Validation set"
   ]
  },
  {
   "cell_type": "code",
   "execution_count": 16,
   "id": "4cefe6dc",
   "metadata": {
    "execution": {
     "iopub.execute_input": "2021-11-24T06:25:29.769920Z",
     "iopub.status.busy": "2021-11-24T06:25:29.768920Z",
     "iopub.status.idle": "2021-11-24T06:25:29.778056Z",
     "shell.execute_reply": "2021-11-24T06:25:29.778547Z",
     "shell.execute_reply.started": "2021-09-19T12:25:37.984623Z"
    },
    "papermill": {
     "duration": 0.04262,
     "end_time": "2021-11-24T06:25:29.778698",
     "exception": false,
     "start_time": "2021-11-24T06:25:29.736078",
     "status": "completed"
    },
    "tags": []
   },
   "outputs": [],
   "source": [
    "from sklearn.model_selection import train_test_split\n",
    "from sklearn.preprocessing import StandardScaler \n",
    "df_sc=StandardScaler().fit_transform(df[top_fea])\n",
    "xtr,xte,ytr,yte=train_test_split(df_sc,df['Rev1'],random_state=108,test_size=0.27)\n",
    "xtr,xval,ytr,yval=train_test_split(xtr,ytr,random_state=108,test_size=0.27)"
   ]
  },
  {
   "cell_type": "markdown",
   "id": "c3a39333",
   "metadata": {
    "papermill": {
     "duration": 0.025032,
     "end_time": "2021-11-24T06:25:29.830335",
     "exception": false,
     "start_time": "2021-11-24T06:25:29.805303",
     "status": "completed"
    },
    "tags": []
   },
   "source": [
    "# Building the Artificial-Neural-Net"
   ]
  },
  {
   "cell_type": "code",
   "execution_count": 17,
   "id": "8d833af3",
   "metadata": {
    "execution": {
     "iopub.execute_input": "2021-11-24T06:25:29.884705Z",
     "iopub.status.busy": "2021-11-24T06:25:29.884136Z",
     "iopub.status.idle": "2021-11-24T06:25:34.078399Z",
     "shell.execute_reply": "2021-11-24T06:25:34.079012Z",
     "shell.execute_reply.started": "2021-09-19T12:25:38.005884Z"
    },
    "papermill": {
     "duration": 4.223537,
     "end_time": "2021-11-24T06:25:34.079180",
     "exception": false,
     "start_time": "2021-11-24T06:25:29.855643",
     "status": "completed"
    },
    "tags": []
   },
   "outputs": [
    {
     "name": "stderr",
     "output_type": "stream",
     "text": [
      "2021-11-24 06:25:30.404210: I tensorflow/stream_executor/platform/default/dso_loader.cc:49] Successfully opened dynamic library libcudart.so.11.0\n"
     ]
    }
   ],
   "source": [
    "import tensorflow as tf\n",
    "from tensorflow import keras\n",
    "from tensorflow.keras import layers, callbacks"
   ]
  },
  {
   "cell_type": "code",
   "execution_count": 18,
   "id": "868c6cfd",
   "metadata": {
    "execution": {
     "iopub.execute_input": "2021-11-24T06:25:34.133480Z",
     "iopub.status.busy": "2021-11-24T06:25:34.132664Z",
     "iopub.status.idle": "2021-11-24T06:26:24.459621Z",
     "shell.execute_reply": "2021-11-24T06:26:24.460208Z",
     "shell.execute_reply.started": "2021-09-19T12:32:20.182457Z"
    },
    "papermill": {
     "duration": 50.355493,
     "end_time": "2021-11-24T06:26:24.460376",
     "exception": false,
     "start_time": "2021-11-24T06:25:34.104883",
     "status": "completed"
    },
    "tags": []
   },
   "outputs": [
    {
     "name": "stderr",
     "output_type": "stream",
     "text": [
      "2021-11-24 06:25:34.168028: I tensorflow/compiler/jit/xla_cpu_device.cc:41] Not creating XLA devices, tf_xla_enable_xla_devices not set\n",
      "2021-11-24 06:25:34.171419: I tensorflow/stream_executor/platform/default/dso_loader.cc:49] Successfully opened dynamic library libcuda.so.1\n",
      "2021-11-24 06:25:34.218519: I tensorflow/stream_executor/cuda/cuda_gpu_executor.cc:941] successful NUMA node read from SysFS had negative value (-1), but there must be at least one NUMA node, so returning NUMA node zero\n",
      "2021-11-24 06:25:34.219166: I tensorflow/core/common_runtime/gpu/gpu_device.cc:1720] Found device 0 with properties: \n",
      "pciBusID: 0000:00:04.0 name: Tesla P100-PCIE-16GB computeCapability: 6.0\n",
      "coreClock: 1.3285GHz coreCount: 56 deviceMemorySize: 15.90GiB deviceMemoryBandwidth: 681.88GiB/s\n",
      "2021-11-24 06:25:34.219221: I tensorflow/stream_executor/platform/default/dso_loader.cc:49] Successfully opened dynamic library libcudart.so.11.0\n",
      "2021-11-24 06:25:34.267213: I tensorflow/stream_executor/platform/default/dso_loader.cc:49] Successfully opened dynamic library libcublas.so.11\n",
      "2021-11-24 06:25:34.267328: I tensorflow/stream_executor/platform/default/dso_loader.cc:49] Successfully opened dynamic library libcublasLt.so.11\n",
      "2021-11-24 06:25:34.286369: I tensorflow/stream_executor/platform/default/dso_loader.cc:49] Successfully opened dynamic library libcufft.so.10\n",
      "2021-11-24 06:25:34.295900: I tensorflow/stream_executor/platform/default/dso_loader.cc:49] Successfully opened dynamic library libcurand.so.10\n",
      "2021-11-24 06:25:34.339736: I tensorflow/stream_executor/platform/default/dso_loader.cc:49] Successfully opened dynamic library libcusolver.so.10\n",
      "2021-11-24 06:25:34.368202: I tensorflow/stream_executor/platform/default/dso_loader.cc:49] Successfully opened dynamic library libcusparse.so.11\n",
      "2021-11-24 06:25:34.371418: I tensorflow/stream_executor/platform/default/dso_loader.cc:49] Successfully opened dynamic library libcudnn.so.8\n",
      "2021-11-24 06:25:34.371680: I tensorflow/stream_executor/cuda/cuda_gpu_executor.cc:941] successful NUMA node read from SysFS had negative value (-1), but there must be at least one NUMA node, so returning NUMA node zero\n",
      "2021-11-24 06:25:34.372376: I tensorflow/stream_executor/cuda/cuda_gpu_executor.cc:941] successful NUMA node read from SysFS had negative value (-1), but there must be at least one NUMA node, so returning NUMA node zero\n",
      "2021-11-24 06:25:34.374110: I tensorflow/core/common_runtime/gpu/gpu_device.cc:1862] Adding visible gpu devices: 0\n",
      "2021-11-24 06:25:34.374600: I tensorflow/core/platform/cpu_feature_guard.cc:142] This TensorFlow binary is optimized with oneAPI Deep Neural Network Library (oneDNN) to use the following CPU instructions in performance-critical operations:  AVX2 AVX512F FMA\n",
      "To enable them in other operations, rebuild TensorFlow with the appropriate compiler flags.\n",
      "2021-11-24 06:25:34.374845: I tensorflow/compiler/jit/xla_gpu_device.cc:99] Not creating XLA devices, tf_xla_enable_xla_devices not set\n",
      "2021-11-24 06:25:34.375051: I tensorflow/stream_executor/cuda/cuda_gpu_executor.cc:941] successful NUMA node read from SysFS had negative value (-1), but there must be at least one NUMA node, so returning NUMA node zero\n",
      "2021-11-24 06:25:34.375843: I tensorflow/core/common_runtime/gpu/gpu_device.cc:1720] Found device 0 with properties: \n",
      "pciBusID: 0000:00:04.0 name: Tesla P100-PCIE-16GB computeCapability: 6.0\n",
      "coreClock: 1.3285GHz coreCount: 56 deviceMemorySize: 15.90GiB deviceMemoryBandwidth: 681.88GiB/s\n",
      "2021-11-24 06:25:34.375920: I tensorflow/stream_executor/platform/default/dso_loader.cc:49] Successfully opened dynamic library libcudart.so.11.0\n",
      "2021-11-24 06:25:34.375948: I tensorflow/stream_executor/platform/default/dso_loader.cc:49] Successfully opened dynamic library libcublas.so.11\n",
      "2021-11-24 06:25:34.375968: I tensorflow/stream_executor/platform/default/dso_loader.cc:49] Successfully opened dynamic library libcublasLt.so.11\n",
      "2021-11-24 06:25:34.375988: I tensorflow/stream_executor/platform/default/dso_loader.cc:49] Successfully opened dynamic library libcufft.so.10\n",
      "2021-11-24 06:25:34.376006: I tensorflow/stream_executor/platform/default/dso_loader.cc:49] Successfully opened dynamic library libcurand.so.10\n",
      "2021-11-24 06:25:34.376025: I tensorflow/stream_executor/platform/default/dso_loader.cc:49] Successfully opened dynamic library libcusolver.so.10\n",
      "2021-11-24 06:25:34.376047: I tensorflow/stream_executor/platform/default/dso_loader.cc:49] Successfully opened dynamic library libcusparse.so.11\n",
      "2021-11-24 06:25:34.376066: I tensorflow/stream_executor/platform/default/dso_loader.cc:49] Successfully opened dynamic library libcudnn.so.8\n",
      "2021-11-24 06:25:34.376167: I tensorflow/stream_executor/cuda/cuda_gpu_executor.cc:941] successful NUMA node read from SysFS had negative value (-1), but there must be at least one NUMA node, so returning NUMA node zero\n",
      "2021-11-24 06:25:34.376848: I tensorflow/stream_executor/cuda/cuda_gpu_executor.cc:941] successful NUMA node read from SysFS had negative value (-1), but there must be at least one NUMA node, so returning NUMA node zero\n",
      "2021-11-24 06:25:34.377412: I tensorflow/core/common_runtime/gpu/gpu_device.cc:1862] Adding visible gpu devices: 0\n",
      "2021-11-24 06:25:34.378579: I tensorflow/stream_executor/platform/default/dso_loader.cc:49] Successfully opened dynamic library libcudart.so.11.0\n",
      "2021-11-24 06:25:35.854433: I tensorflow/core/common_runtime/gpu/gpu_device.cc:1261] Device interconnect StreamExecutor with strength 1 edge matrix:\n",
      "2021-11-24 06:25:35.854487: I tensorflow/core/common_runtime/gpu/gpu_device.cc:1267]      0 \n",
      "2021-11-24 06:25:35.854497: I tensorflow/core/common_runtime/gpu/gpu_device.cc:1280] 0:   N \n",
      "2021-11-24 06:25:35.856935: I tensorflow/stream_executor/cuda/cuda_gpu_executor.cc:941] successful NUMA node read from SysFS had negative value (-1), but there must be at least one NUMA node, so returning NUMA node zero\n",
      "2021-11-24 06:25:35.857662: I tensorflow/stream_executor/cuda/cuda_gpu_executor.cc:941] successful NUMA node read from SysFS had negative value (-1), but there must be at least one NUMA node, so returning NUMA node zero\n",
      "2021-11-24 06:25:35.858294: I tensorflow/stream_executor/cuda/cuda_gpu_executor.cc:941] successful NUMA node read from SysFS had negative value (-1), but there must be at least one NUMA node, so returning NUMA node zero\n",
      "2021-11-24 06:25:35.858865: I tensorflow/core/common_runtime/gpu/gpu_device.cc:1406] Created TensorFlow device (/job:localhost/replica:0/task:0/device:GPU:0 with 14957 MB memory) -> physical GPU (device: 0, name: Tesla P100-PCIE-16GB, pci bus id: 0000:00:04.0, compute capability: 6.0)\n",
      "2021-11-24 06:25:36.431682: I tensorflow/compiler/mlir/mlir_graph_optimization_pass.cc:116] None of the MLIR optimization passes are enabled (registered 2)\n",
      "2021-11-24 06:25:36.446135: I tensorflow/core/platform/profile_utils/cpu_utils.cc:112] CPU Frequency: 2000155000 Hz\n"
     ]
    },
    {
     "name": "stdout",
     "output_type": "stream",
     "text": [
      "Epoch 1/45\n"
     ]
    },
    {
     "name": "stderr",
     "output_type": "stream",
     "text": [
      "2021-11-24 06:25:38.659037: I tensorflow/stream_executor/platform/default/dso_loader.cc:49] Successfully opened dynamic library libcublas.so.11\n"
     ]
    },
    {
     "name": "stdout",
     "output_type": "stream",
     "text": [
      " 18/137 [==>...........................] - ETA: 0s - loss: 0.8918 - accuracy: 0.5684"
     ]
    },
    {
     "name": "stderr",
     "output_type": "stream",
     "text": [
      "2021-11-24 06:25:39.458915: I tensorflow/stream_executor/platform/default/dso_loader.cc:49] Successfully opened dynamic library libcublasLt.so.11\n"
     ]
    },
    {
     "name": "stdout",
     "output_type": "stream",
     "text": [
      "137/137 [==============================] - 5s 11ms/step - loss: 0.6652 - accuracy: 0.7189 - val_loss: 0.3511 - val_accuracy: 0.8630\n",
      "Epoch 2/45\n",
      "137/137 [==============================] - 1s 7ms/step - loss: 0.3364 - accuracy: 0.8809 - val_loss: 0.3050 - val_accuracy: 0.8782\n",
      "Epoch 3/45\n",
      "137/137 [==============================] - 1s 7ms/step - loss: 0.2971 - accuracy: 0.8928 - val_loss: 0.2742 - val_accuracy: 0.8942\n",
      "Epoch 4/45\n",
      "137/137 [==============================] - 1s 7ms/step - loss: 0.2704 - accuracy: 0.8992 - val_loss: 0.2748 - val_accuracy: 0.8852\n",
      "Epoch 5/45\n",
      "137/137 [==============================] - 1s 7ms/step - loss: 0.2722 - accuracy: 0.8892 - val_loss: 0.2835 - val_accuracy: 0.8934\n",
      "Epoch 6/45\n",
      "137/137 [==============================] - 1s 7ms/step - loss: 0.2439 - accuracy: 0.8991 - val_loss: 0.2934 - val_accuracy: 0.8979\n",
      "Epoch 7/45\n",
      "137/137 [==============================] - 1s 7ms/step - loss: 0.2504 - accuracy: 0.8950 - val_loss: 0.2606 - val_accuracy: 0.8947\n",
      "Epoch 8/45\n",
      "137/137 [==============================] - 1s 8ms/step - loss: 0.2434 - accuracy: 0.8905 - val_loss: 0.2566 - val_accuracy: 0.8955\n",
      "Epoch 9/45\n",
      "137/137 [==============================] - 1s 7ms/step - loss: 0.2333 - accuracy: 0.9028 - val_loss: 0.2627 - val_accuracy: 0.9008\n",
      "Epoch 10/45\n",
      "137/137 [==============================] - 1s 7ms/step - loss: 0.2416 - accuracy: 0.9051 - val_loss: 0.2583 - val_accuracy: 0.8959\n",
      "Epoch 11/45\n",
      "137/137 [==============================] - 1s 7ms/step - loss: 0.2423 - accuracy: 0.8987 - val_loss: 0.2549 - val_accuracy: 0.8963\n",
      "Epoch 12/45\n",
      "137/137 [==============================] - 1s 7ms/step - loss: 0.2442 - accuracy: 0.9031 - val_loss: 0.2558 - val_accuracy: 0.8963\n",
      "Epoch 13/45\n",
      "137/137 [==============================] - 1s 7ms/step - loss: 0.2464 - accuracy: 0.9023 - val_loss: 0.2620 - val_accuracy: 0.9000\n",
      "Epoch 14/45\n",
      "137/137 [==============================] - 1s 7ms/step - loss: 0.2399 - accuracy: 0.9010 - val_loss: 0.2542 - val_accuracy: 0.8996\n",
      "Epoch 15/45\n",
      "137/137 [==============================] - 1s 7ms/step - loss: 0.2273 - accuracy: 0.9065 - val_loss: 0.2578 - val_accuracy: 0.8963\n",
      "Epoch 16/45\n",
      "137/137 [==============================] - 1s 7ms/step - loss: 0.2155 - accuracy: 0.9112 - val_loss: 0.2542 - val_accuracy: 0.8971\n",
      "Epoch 17/45\n",
      "137/137 [==============================] - 1s 7ms/step - loss: 0.2195 - accuracy: 0.9090 - val_loss: 0.2531 - val_accuracy: 0.8975\n",
      "Epoch 18/45\n",
      "137/137 [==============================] - 1s 7ms/step - loss: 0.2252 - accuracy: 0.9055 - val_loss: 0.2522 - val_accuracy: 0.8984\n",
      "Epoch 19/45\n",
      "137/137 [==============================] - 1s 8ms/step - loss: 0.2246 - accuracy: 0.9087 - val_loss: 0.2649 - val_accuracy: 0.8955\n",
      "Epoch 20/45\n",
      "137/137 [==============================] - 1s 8ms/step - loss: 0.2306 - accuracy: 0.9071 - val_loss: 0.2569 - val_accuracy: 0.9025\n",
      "Epoch 21/45\n",
      "137/137 [==============================] - 1s 7ms/step - loss: 0.2241 - accuracy: 0.9062 - val_loss: 0.2627 - val_accuracy: 0.8905\n",
      "Epoch 22/45\n",
      "137/137 [==============================] - 1s 7ms/step - loss: 0.2367 - accuracy: 0.8987 - val_loss: 0.2580 - val_accuracy: 0.8926\n",
      "Epoch 23/45\n",
      "137/137 [==============================] - 1s 7ms/step - loss: 0.2098 - accuracy: 0.9111 - val_loss: 0.2554 - val_accuracy: 0.8909\n",
      "Epoch 24/45\n",
      "137/137 [==============================] - 1s 7ms/step - loss: 0.2322 - accuracy: 0.8977 - val_loss: 0.2584 - val_accuracy: 0.8963\n",
      "Epoch 25/45\n",
      "137/137 [==============================] - 1s 8ms/step - loss: 0.2198 - accuracy: 0.9076 - val_loss: 0.2541 - val_accuracy: 0.9016\n",
      "Epoch 26/45\n",
      "137/137 [==============================] - 1s 7ms/step - loss: 0.2142 - accuracy: 0.9110 - val_loss: 0.2498 - val_accuracy: 0.9021\n",
      "Epoch 27/45\n",
      "137/137 [==============================] - 1s 7ms/step - loss: 0.2279 - accuracy: 0.9089 - val_loss: 0.2540 - val_accuracy: 0.9025\n",
      "Epoch 28/45\n",
      "137/137 [==============================] - 1s 7ms/step - loss: 0.2249 - accuracy: 0.9049 - val_loss: 0.2584 - val_accuracy: 0.8992\n",
      "Epoch 29/45\n",
      "137/137 [==============================] - 1s 7ms/step - loss: 0.2203 - accuracy: 0.9093 - val_loss: 0.2539 - val_accuracy: 0.9012\n",
      "Epoch 30/45\n",
      "137/137 [==============================] - 1s 7ms/step - loss: 0.2327 - accuracy: 0.9036 - val_loss: 0.2551 - val_accuracy: 0.8951\n",
      "Epoch 31/45\n",
      "137/137 [==============================] - 2s 12ms/step - loss: 0.2283 - accuracy: 0.9072 - val_loss: 0.2518 - val_accuracy: 0.8951\n",
      "Epoch 32/45\n",
      "137/137 [==============================] - 1s 7ms/step - loss: 0.2288 - accuracy: 0.9047 - val_loss: 0.2464 - val_accuracy: 0.8988\n",
      "Epoch 33/45\n",
      "137/137 [==============================] - 1s 7ms/step - loss: 0.2185 - accuracy: 0.9071 - val_loss: 0.2462 - val_accuracy: 0.8988\n",
      "Epoch 34/45\n",
      "137/137 [==============================] - 1s 7ms/step - loss: 0.2302 - accuracy: 0.9023 - val_loss: 0.2473 - val_accuracy: 0.9021\n",
      "Epoch 35/45\n",
      "137/137 [==============================] - 1s 7ms/step - loss: 0.2225 - accuracy: 0.9112 - val_loss: 0.2482 - val_accuracy: 0.8955\n",
      "Epoch 36/45\n",
      "137/137 [==============================] - 1s 7ms/step - loss: 0.2188 - accuracy: 0.9089 - val_loss: 0.2532 - val_accuracy: 0.9016\n",
      "Epoch 37/45\n",
      "137/137 [==============================] - 1s 7ms/step - loss: 0.2286 - accuracy: 0.9079 - val_loss: 0.2545 - val_accuracy: 0.8988\n",
      "Epoch 38/45\n",
      "137/137 [==============================] - 1s 7ms/step - loss: 0.2089 - accuracy: 0.9172 - val_loss: 0.2576 - val_accuracy: 0.8984\n",
      "Epoch 39/45\n",
      "137/137 [==============================] - 1s 7ms/step - loss: 0.2158 - accuracy: 0.9138 - val_loss: 0.2685 - val_accuracy: 0.8971\n",
      "Epoch 40/45\n",
      "137/137 [==============================] - 1s 7ms/step - loss: 0.2244 - accuracy: 0.9039 - val_loss: 0.2544 - val_accuracy: 0.8996\n",
      "Epoch 41/45\n",
      "137/137 [==============================] - 1s 8ms/step - loss: 0.2208 - accuracy: 0.9089 - val_loss: 0.2603 - val_accuracy: 0.8963\n",
      "Epoch 42/45\n",
      "137/137 [==============================] - 1s 7ms/step - loss: 0.2205 - accuracy: 0.9130 - val_loss: 0.2555 - val_accuracy: 0.8881\n",
      "Epoch 43/45\n",
      "137/137 [==============================] - 1s 7ms/step - loss: 0.2326 - accuracy: 0.8995 - val_loss: 0.2525 - val_accuracy: 0.9008\n",
      "Epoch 44/45\n",
      "137/137 [==============================] - 1s 7ms/step - loss: 0.2132 - accuracy: 0.9098 - val_loss: 0.2575 - val_accuracy: 0.8951\n",
      "Epoch 45/45\n",
      "137/137 [==============================] - 1s 7ms/step - loss: 0.2226 - accuracy: 0.9074 - val_loss: 0.2586 - val_accuracy: 0.9008\n"
     ]
    }
   ],
   "source": [
    "model=keras.Sequential([\n",
    "    layers.Dense(512,activation='relu',input_shape=(9,)),\n",
    "    layers.BatchNormalization(),\n",
    "    layers.Dropout(0.27),\n",
    "    layers.Dense(978,activation='relu'),\n",
    "    layers.BatchNormalization(),\n",
    "    layers.Dropout(0.3),\n",
    "    layers.Dense(1224,activation='relu'),\n",
    "    layers.BatchNormalization(),\n",
    "    layers.Dropout(0.32),\n",
    "    layers.Dense(1528,activation='relu'),\n",
    "    layers.BatchNormalization(),\n",
    "    layers.Dropout(0.3),\n",
    "    layers.Dense(828,activation='relu'),\n",
    "    layers.BatchNormalization(),\n",
    "    layers.Dropout(0.27),\n",
    "    layers.Dense(428,activation='relu'),\n",
    "    layers.BatchNormalization(),\n",
    "    layers.Dropout(0.3),\n",
    "    layers.Dense(128,activation='relu'),\n",
    "    layers.BatchNormalization(),\n",
    "    layers.Dropout(0.32),\n",
    "    layers.Dense(1,activation='sigmoid')\n",
    "])\n",
    "\n",
    "model.compile(optimizer='adam',loss='binary_crossentropy',metrics='accuracy')\n",
    "\n",
    "call=callbacks.EarlyStopping(patience=12,min_delta=0.0001,restore_best_weights=True)\n",
    "history=model.fit(xtr,ytr,batch_size=48,epochs=45,validation_data=(xval,yval),callbacks=call)"
   ]
  },
  {
   "cell_type": "code",
   "execution_count": 19,
   "id": "11da8572",
   "metadata": {
    "execution": {
     "iopub.execute_input": "2021-11-24T06:26:24.926574Z",
     "iopub.status.busy": "2021-11-24T06:26:24.923856Z",
     "iopub.status.idle": "2021-11-24T06:26:24.929112Z",
     "shell.execute_reply": "2021-11-24T06:26:24.928710Z",
     "shell.execute_reply.started": "2021-09-19T12:39:55.625778Z"
    },
    "papermill": {
     "duration": 0.237322,
     "end_time": "2021-11-24T06:26:24.929225",
     "exception": false,
     "start_time": "2021-11-24T06:26:24.691903",
     "status": "completed"
    },
    "tags": []
   },
   "outputs": [],
   "source": [
    "his=pd.DataFrame(history.history)"
   ]
  },
  {
   "cell_type": "code",
   "execution_count": 20,
   "id": "397c9b2b",
   "metadata": {
    "execution": {
     "iopub.execute_input": "2021-11-24T06:26:25.406462Z",
     "iopub.status.busy": "2021-11-24T06:26:25.405902Z",
     "iopub.status.idle": "2021-11-24T06:26:25.409562Z",
     "shell.execute_reply": "2021-11-24T06:26:25.409148Z",
     "shell.execute_reply.started": "2021-09-19T12:40:00.387604Z"
    },
    "papermill": {
     "duration": 0.246964,
     "end_time": "2021-11-24T06:26:25.409683",
     "exception": false,
     "start_time": "2021-11-24T06:26:25.162719",
     "status": "completed"
    },
    "tags": []
   },
   "outputs": [
    {
     "data": {
      "text/html": [
       "<div>\n",
       "<style scoped>\n",
       "    .dataframe tbody tr th:only-of-type {\n",
       "        vertical-align: middle;\n",
       "    }\n",
       "\n",
       "    .dataframe tbody tr th {\n",
       "        vertical-align: top;\n",
       "    }\n",
       "\n",
       "    .dataframe thead th {\n",
       "        text-align: right;\n",
       "    }\n",
       "</style>\n",
       "<table border=\"1\" class=\"dataframe\">\n",
       "  <thead>\n",
       "    <tr style=\"text-align: right;\">\n",
       "      <th></th>\n",
       "      <th>loss</th>\n",
       "      <th>accuracy</th>\n",
       "      <th>val_loss</th>\n",
       "      <th>val_accuracy</th>\n",
       "    </tr>\n",
       "  </thead>\n",
       "  <tbody>\n",
       "    <tr>\n",
       "      <th>0</th>\n",
       "      <td>0.521485</td>\n",
       "      <td>0.799391</td>\n",
       "      <td>0.351121</td>\n",
       "      <td>0.862963</td>\n",
       "    </tr>\n",
       "    <tr>\n",
       "      <th>1</th>\n",
       "      <td>0.325335</td>\n",
       "      <td>0.881583</td>\n",
       "      <td>0.304965</td>\n",
       "      <td>0.878189</td>\n",
       "    </tr>\n",
       "    <tr>\n",
       "      <th>2</th>\n",
       "      <td>0.296687</td>\n",
       "      <td>0.889650</td>\n",
       "      <td>0.274199</td>\n",
       "      <td>0.894239</td>\n",
       "    </tr>\n",
       "    <tr>\n",
       "      <th>3</th>\n",
       "      <td>0.276573</td>\n",
       "      <td>0.891629</td>\n",
       "      <td>0.274813</td>\n",
       "      <td>0.885185</td>\n",
       "    </tr>\n",
       "    <tr>\n",
       "      <th>4</th>\n",
       "      <td>0.262275</td>\n",
       "      <td>0.892694</td>\n",
       "      <td>0.283539</td>\n",
       "      <td>0.893416</td>\n",
       "    </tr>\n",
       "  </tbody>\n",
       "</table>\n",
       "</div>"
      ],
      "text/plain": [
       "       loss  accuracy  val_loss  val_accuracy\n",
       "0  0.521485  0.799391  0.351121      0.862963\n",
       "1  0.325335  0.881583  0.304965      0.878189\n",
       "2  0.296687  0.889650  0.274199      0.894239\n",
       "3  0.276573  0.891629  0.274813      0.885185\n",
       "4  0.262275  0.892694  0.283539      0.893416"
      ]
     },
     "execution_count": 20,
     "metadata": {},
     "output_type": "execute_result"
    }
   ],
   "source": [
    "his.head()"
   ]
  },
  {
   "cell_type": "markdown",
   "id": "8ec9bc0a",
   "metadata": {
    "papermill": {
     "duration": 0.229945,
     "end_time": "2021-11-24T06:26:25.874142",
     "exception": false,
     "start_time": "2021-11-24T06:26:25.644197",
     "status": "completed"
    },
    "tags": []
   },
   "source": [
    "# Visualizing the Accuracy  & Loss during\n",
    "* Training & Validation "
   ]
  },
  {
   "cell_type": "code",
   "execution_count": 21,
   "id": "bfed3711",
   "metadata": {
    "execution": {
     "iopub.execute_input": "2021-11-24T06:26:26.341099Z",
     "iopub.status.busy": "2021-11-24T06:26:26.340400Z",
     "iopub.status.idle": "2021-11-24T06:26:26.617994Z",
     "shell.execute_reply": "2021-11-24T06:26:26.618372Z",
     "shell.execute_reply.started": "2021-09-19T12:40:01.033825Z"
    },
    "papermill": {
     "duration": 0.512162,
     "end_time": "2021-11-24T06:26:26.618521",
     "exception": false,
     "start_time": "2021-11-24T06:26:26.106359",
     "status": "completed"
    },
    "tags": []
   },
   "outputs": [
    {
     "data": {
      "text/plain": [
       "<AxesSubplot:>"
      ]
     },
     "execution_count": 21,
     "metadata": {},
     "output_type": "execute_result"
    },
    {
     "data": {
      "image/png": "[encoded data removed]",
      "text/plain": [
       "<Figure size 432x288 with 1 Axes>"
      ]
     },
     "metadata": {},
     "output_type": "display_data"
    }
   ],
   "source": [
    "his.loc[:,['loss','val_loss']].plot()"
   ]
  },
  {
   "cell_type": "code",
   "execution_count": 22,
   "id": "c2d12e1f",
   "metadata": {
    "execution": {
     "iopub.execute_input": "2021-11-24T06:26:27.129812Z",
     "iopub.status.busy": "2021-11-24T06:26:27.111416Z",
     "iopub.status.idle": "2021-11-24T06:26:27.371048Z",
     "shell.execute_reply": "2021-11-24T06:26:27.371480Z",
     "shell.execute_reply.started": "2021-09-19T12:40:04.819974Z"
    },
    "papermill": {
     "duration": 0.521855,
     "end_time": "2021-11-24T06:26:27.371692",
     "exception": false,
     "start_time": "2021-11-24T06:26:26.849837",
     "status": "completed"
    },
    "tags": []
   },
   "outputs": [
    {
     "data": {
      "text/plain": [
       "<AxesSubplot:>"
      ]
     },
     "execution_count": 22,
     "metadata": {},
     "output_type": "execute_result"
    },
    {
     "data": {
      "image/png": "[encoded data removed]",
      "text/plain": [
       "<Figure size 432x288 with 1 Axes>"
      ]
     },
     "metadata": {},
     "output_type": "display_data"
    }
   ],
   "source": [
    "his.loc[:,['accuracy','val_accuracy']].plot()"
   ]
  },
  {
   "cell_type": "markdown",
   "id": "696c65f3",
   "metadata": {
    "papermill": {
     "duration": 0.23417,
     "end_time": "2021-11-24T06:26:27.850745",
     "exception": false,
     "start_time": "2021-11-24T06:26:27.616575",
     "status": "completed"
    },
    "tags": []
   },
   "source": [
    "# Evaluating the model"
   ]
  },
  {
   "cell_type": "code",
   "execution_count": 23,
   "id": "aed1717b",
   "metadata": {
    "execution": {
     "iopub.execute_input": "2021-11-24T06:26:28.320304Z",
     "iopub.status.busy": "2021-11-24T06:26:28.319485Z",
     "iopub.status.idle": "2021-11-24T06:26:28.573466Z",
     "shell.execute_reply": "2021-11-24T06:26:28.574234Z",
     "shell.execute_reply.started": "2021-09-19T12:40:56.633488Z"
    },
    "papermill": {
     "duration": 0.490684,
     "end_time": "2021-11-24T06:26:28.574395",
     "exception": false,
     "start_time": "2021-11-24T06:26:28.083711",
     "status": "completed"
    },
    "tags": []
   },
   "outputs": [
    {
     "name": "stdout",
     "output_type": "stream",
     "text": [
      "105/105 [==============================] - 0s 2ms/step - loss: 0.2509 - accuracy: 0.8988\n"
     ]
    },
    {
     "data": {
      "text/plain": [
       "[0.25086456537246704, 0.8987988233566284]"
      ]
     },
     "execution_count": 23,
     "metadata": {},
     "output_type": "execute_result"
    }
   ],
   "source": [
    "model.evaluate(xte,yte)"
   ]
  },
  {
   "cell_type": "markdown",
   "id": "cba6c15a",
   "metadata": {
    "papermill": {
     "duration": 0.23433,
     "end_time": "2021-11-24T06:26:29.087673",
     "exception": false,
     "start_time": "2021-11-24T06:26:28.853343",
     "status": "completed"
    },
    "tags": []
   },
   "source": [
    "# `89.24%` accuracy!"
   ]
  }
 ],
 "metadata": {
  "kernelspec": {
   "display_name": "Python 3",
   "language": "python",
   "name": "python3"
  },
  "language_info": {
   "codemirror_mode": {
    "name": "ipython",
    "version": 3
   },
   "file_extension": ".py",
   "mimetype": "text/x-python",
   "name": "python",
   "nbconvert_exporter": "python",
   "pygments_lexer": "ipython3",
   "version": "3.7.10"
  },
  "papermill": {
   "default_parameters": {},
   "duration": 76.68843,
   "end_time": "2021-11-24T06:26:32.394969",
   "environment_variables": {},
   "exception": null,
   "input_path": "__notebook__.ipynb",
   "output_path": "__notebook__.ipynb",
   "parameters": {},
   "start_time": "2021-11-24T06:25:15.706539",
   "version": "2.3.3"
  }
 },
 "nbformat": 4,
 "nbformat_minor": 5
}
